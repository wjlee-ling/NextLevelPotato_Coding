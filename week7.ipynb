{
 "cells": [
  {
   "cell_type": "markdown",
   "metadata": {},
   "source": [
    "# 코테 준비 1주차"
   ]
  },
  {
   "cell_type": "markdown",
   "metadata": {},
   "source": [
    "# Q1\n",
    "\n",
    "![image](https://user-images.githubusercontent.com/61496071/202892074-a65a6ffc-f647-4c51-9248-9b151fb4b96a.png)\n",
    "\n",
    "![image](https://user-images.githubusercontent.com/61496071/202892088-6950ada1-7f64-4bb0-b0f8-4c335ded5004.png)\n"
   ]
  },
  {
   "cell_type": "code",
   "execution_count": null,
   "metadata": {},
   "outputs": [],
   "source": [
    "'''\n",
    "Counter로 계산후 most_common() 사용 -> 10, 17, 18, 19 fail\n",
    "'''\n",
    "\n",
    "from collections import Counter\n",
    "\n",
    "N,M = map(int, input().split())\n",
    "c = Counter()\n",
    "for _ in range(M):\n",
    "\tevents = input().split()[1:]\n",
    "\tc.update(events)\n",
    "most = c.most_common(1)[0]\n",
    "answer  = [k for k, v in c.most_common() if v == most[1]]\n",
    "answer = reversed(answer)\n",
    "print(' '.join(list(answer)))"
   ]
  },
  {
   "cell_type": "markdown",
   "metadata": {},
   "source": [
    "# Q2\n",
    "\n",
    "![image](https://user-images.githubusercontent.com/61496071/202892023-9c39302a-181e-46bf-a01e-284eab5e9bb0.png)\n",
    "\n",
    "![image](https://user-images.githubusercontent.com/61496071/202892036-cde8bf6d-5264-49a3-b489-6831e2525c3b.png)\n"
   ]
  },
  {
   "cell_type": "code",
   "execution_count": null,
   "metadata": {},
   "outputs": [],
   "source": [
    "'''\n",
    "1st_try: 5/6/7 -> fail\n",
    "union-find algorithm: 부모 노드에 따라 update 되는 알고리즘 시도\n",
    "'''\n",
    "from collections import defaultdict\n",
    "N = int(input()) # 친구 수\n",
    "M = int(input()) # 관계 수\n",
    "links = defaultdict(list) \n",
    "parents = {i+1: i+1 for i in range(N)} # 처음엔 자기 자신이 부모로 init\n",
    "\n",
    "def find(node):\n",
    "\t#node(idx)의 root idx를 return\n",
    "\tif parents[node] != node:\n",
    "\t\treturn find(parents[node])\n",
    "\treturn node\n",
    "\t\n",
    "def union(x, y):\n",
    "\t#두 set를 합치고 reset\n",
    "\tx_root = find(x)\n",
    "\ty_root = find(y)\n",
    "\tif x_root < y_root:\n",
    "\t\tparents[y] = x_root # y node의 root를 x_root로 변경\n",
    "\t\t# y node의 children node들의 root 도 x_root로 변경\n",
    "\t\tfor link in links[y]:\n",
    "\t\t\tif find(link) > x_root:\n",
    "\t\t\t\tparents[link] = x_root\n",
    "\t\t\t\n",
    "\telse:\n",
    "\t\tparents[x] = y_root\n",
    "\t\tfor link in links[x]:\n",
    "\t\t\tif find(link) > y_root:\n",
    "\t\t\t\tparents[link] = y_root\n",
    "\t\n",
    "for _ in range(M):\n",
    "\tu,v = map(int, input().split())\n",
    "\tlinks[u].append(v)\n",
    "\tlinks[v].append(u)\n",
    "\tunion(u, v)\n",
    "\n",
    "for parent in parents:\n",
    "\tparents[parent] = find(parent)\n",
    "\t\n",
    "answer = [k for k, v in parents.items() if v == 1]\n",
    "print(len(answer))\n"
   ]
  },
  {
   "cell_type": "code",
   "execution_count": null,
   "metadata": {},
   "outputs": [],
   "source": [
    "7\n",
    "5\n",
    "1 4\n",
    "3 5\n",
    "7 6\n",
    "1 5\n",
    "4 3"
   ]
  },
  {
   "cell_type": "code",
   "execution_count": null,
   "metadata": {},
   "outputs": [],
   "source": [
    "4"
   ]
  },
  {
   "cell_type": "code",
   "execution_count": null,
   "metadata": {},
   "outputs": [],
   "source": [
    "5\n",
    "5\n",
    "1 3\n",
    "2 3\n",
    "3 4\n",
    "4 5\n",
    "4 2"
   ]
  },
  {
   "cell_type": "code",
   "execution_count": null,
   "metadata": {},
   "outputs": [],
   "source": [
    "5"
   ]
  },
  {
   "cell_type": "markdown",
   "metadata": {},
   "source": [
    "# Q3\n",
    "\n",
    "![image](https://user-images.githubusercontent.com/61496071/202891881-37e145cf-43af-491a-a373-8e5e5d2f8075.png)\n",
    "\n",
    "![image](https://user-images.githubusercontent.com/61496071/202891892-a1b5a5ad-70f2-43d5-871f-d5a3990c8338.png)\n",
    "\n",
    "![image](https://user-images.githubusercontent.com/61496071/202891900-ff84ddb1-d26a-4033-9ba7-881dc7f9ebc9.png)\n"
   ]
  },
  {
   "cell_type": "code",
   "execution_count": null,
   "metadata": {},
   "outputs": [],
   "source": [
    "'''\n",
    "1:20 남음\n",
    "최소 경로: 새 node를 거칠 때 마다 count를 기록하여 마지막에 최소 count를 선택\n",
    "'''\n",
    "from collections import defaultdict\n",
    "N, M, K = map(int, input().split())\n",
    "links = defaultdict(list)\n",
    "for _ in range(M):\n",
    "\ta, b = map(int, input().split())\n",
    "\tlinks[a].append(b) # a -> b 단방향\n",
    "dist = [N] * (N+1) # min_distance to the idx node\n",
    "dist[K] = 0\n",
    "visited = [0] * (N+1)\n",
    "def update_dist(curr):\n",
    "\tvisited[curr] = 1\n",
    "\tfor link in links[curr]:\n",
    "\t\tif dist[link] > dist[curr]+1:\n",
    "\t\t\tdist[link] = dist[curr]+1\n",
    "\t\tif link == K and dist[link] == 0:\n",
    "\t\t\tdist[link] = dist[curr]+1\n",
    "\t\tif visited[link] == 0:\n",
    "\t\t\tupdate_dist(link)\n",
    "update_dist(K)\n",
    "\n",
    "if dist[K]==0:\n",
    "\tprint(-1)\n",
    "else:\n",
    "\tprint(dist[K])"
   ]
  },
  {
   "cell_type": "code",
   "execution_count": null,
   "metadata": {},
   "outputs": [],
   "source": [
    "5 6 4\n",
    "1 2\n",
    "1 3\n",
    "3 2\n",
    "4 2\n",
    "5 1\n",
    "5 4"
   ]
  },
  {
   "cell_type": "code",
   "execution_count": null,
   "metadata": {},
   "outputs": [],
   "source": [
    "-1"
   ]
  },
  {
   "cell_type": "code",
   "execution_count": null,
   "metadata": {},
   "outputs": [],
   "source": [
    "5 6 4\n",
    "1 2\n",
    "1 4\n",
    "3 1\n",
    "4 2\n",
    "4 5\n",
    "5 3"
   ]
  },
  {
   "cell_type": "code",
   "execution_count": null,
   "metadata": {},
   "outputs": [],
   "source": [
    "4"
   ]
  },
  {
   "cell_type": "markdown",
   "metadata": {},
   "source": [
    "# Q4\n",
    "\n",
    "![image](https://user-images.githubusercontent.com/61496071/202891927-06b93ab1-ea79-4e7b-9d5f-21552beacc96.png)\n",
    "\n",
    "![image](https://user-images.githubusercontent.com/61496071/202891960-9ec336d5-e923-4038-af00-05127a4071ee.png)\n",
    "\n",
    "<img width=\"382\" alt=\"image\" src=\"https://user-images.githubusercontent.com/61496071/202891968-f71dd2aa-a9a3-404b-a466-eb76a9a56b22.png\">\n",
    "\n",
    "![image](https://user-images.githubusercontent.com/61496071/202891937-e6470109-6b4a-46a2-85ab-82c55e3c0fb1.png)\n"
   ]
  },
  {
   "cell_type": "code",
   "execution_count": null,
   "metadata": {},
   "outputs": [],
   "source": [
    "4 5\n",
    "3 2 1 5\n",
    "1 2 5\n",
    "2 4 6\n",
    "2 3 3\n",
    "1 3 13\n",
    "4 3 7"
   ]
  },
  {
   "cell_type": "code",
   "execution_count": null,
   "metadata": {},
   "outputs": [],
   "source": [
    "15"
   ]
  },
  {
   "cell_type": "code",
   "execution_count": null,
   "metadata": {},
   "outputs": [],
   "source": [
    "3 2\n",
    "5 6 3\n",
    "1 2 2\n",
    "2 3 3"
   ]
  },
  {
   "cell_type": "code",
   "execution_count": null,
   "metadata": {},
   "outputs": [],
   "source": [
    "-1"
   ]
  }
 ],
 "metadata": {
  "kernelspec": {
   "display_name": ".venv",
   "language": "python",
   "name": ".venv"
  },
  "language_info": {
   "name": "python",
   "version": "3.8.15"
  },
  "orig_nbformat": 4
 },
 "nbformat": 4,
 "nbformat_minor": 2
}
